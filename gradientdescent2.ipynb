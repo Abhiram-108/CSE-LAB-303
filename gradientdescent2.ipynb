{
  "nbformat": 4,
  "nbformat_minor": 0,
  "metadata": {
    "colab": {
      "provenance": [],
      "authorship_tag": "ABX9TyNvcU751ZQrriV8fBUT/X3x",
      "include_colab_link": true
    },
    "kernelspec": {
      "name": "python3",
      "display_name": "Python 3"
    },
    "language_info": {
      "name": "python"
    }
  },
  "cells": [
    {
      "cell_type": "markdown",
      "metadata": {
        "id": "view-in-github",
        "colab_type": "text"
      },
      "source": [
        "<a href=\"https://colab.research.google.com/github/Abhiram-108/CSE-LAB-303/blob/main/gradientdescent2.ipynb\" target=\"_parent\"><img src=\"https://colab.research.google.com/assets/colab-badge.svg\" alt=\"Open In Colab\"/></a>"
      ]
    },
    {
      "cell_type": "code",
      "execution_count": null,
      "metadata": {
        "id": "YG29ng8xWu8v"
      },
      "outputs": [],
      "source": [
        "import numpy as np\n",
        "import pandas as pd\n",
        "from sklearn.model_selection import train_test_split\n",
        "from sklearn.preprocessing import StandardScaler\n",
        "import matplotlib.pyplot as plt\n",
        "\n",
        "\n",
        "\n",
        "\n"
      ]
    },
    {
      "cell_type": "code",
      "source": [
        "data_url = \"http://lib.stat.cmu.edu/datasets/boston\"\n",
        "raw_df = pd.read_csv(data_url, sep=\"\\s+\", skiprows=22, header=None)\n",
        "housing_data = np.hstack([raw_df.values[::2, :], raw_df.values[1::2, :2]])\n",
        "housing_target = raw_df.values[1::2, 2]"
      ],
      "metadata": {
        "id": "SCvUdseDW3ER"
      },
      "execution_count": null,
      "outputs": []
    },
    {
      "cell_type": "code",
      "source": [
        "boston_df = pd.DataFrame(data=housing_data, columns=['CRIM', 'ZN', 'INDUS', 'CHAS', 'NOX', 'RM',\n",
        "                                                     'AGE', 'DIS', 'RAD', 'TAX', 'PTRATIO', 'B', 'LSTAT'])\n",
        "boston_df['PRICE'] = housing_target\n"
      ],
      "metadata": {
        "id": "8gkd8MdhXGpd"
      },
      "execution_count": null,
      "outputs": []
    },
    {
      "cell_type": "code",
      "source": [
        "\n",
        "correlation_matrix = boston_df.corr()\n",
        "print(\"Correlation Matrix:\\n\", correlation_matrix['PRICE'])"
      ],
      "metadata": {
        "id": "XjohR9vDXLzY"
      },
      "execution_count": null,
      "outputs": []
    },
    {
      "cell_type": "code",
      "source": [
        "best_feature = correlation_matrix['PRICE'].idxmax(axis=0)\n",
        "print(f\"The attribute with the highest correlation with PRICE is: {best_feature}\")"
      ],
      "metadata": {
        "id": "j5d-zmM4XRDJ"
      },
      "execution_count": null,
      "outputs": []
    },
    {
      "cell_type": "code",
      "source": [
        "X_feature = boston_df[[best_feature]].values\n",
        "y_price = boston_df['PRICE'].values\n",
        "X_train, X_test, y_train, y_test = train_test_split(X_feature, y_price, test_size=0.4, random_state=1)"
      ],
      "metadata": {
        "id": "EidWerq4XUXE"
      },
      "execution_count": null,
      "outputs": []
    },
    {
      "cell_type": "code",
      "source": [
        "scaler = StandardScaler()\n",
        "X_train_scaled = scaler.fit_transform(X_train)\n",
        "X_test_scaled = scaler.transform(X_test)"
      ],
      "metadata": {
        "id": "-Usx4hL7XVHr"
      },
      "execution_count": null,
      "outputs": []
    },
    {
      "cell_type": "code",
      "source": [
        "\n",
        "X_train_mean = np.mean(X_train_scaled)\n",
        "y_train_mean = np.mean(y_train)\n",
        "numerator = np.sum((X_train_scaled - X_train_mean) * (y_train - y_train_mean))\n",
        "denominator = np.sum((X_train_scaled - X_train_mean) ** 2)\n",
        "slope_analytic = numerator / denominator\n",
        "intercept_analytic = y_train_mean - slope_analytic * X_train_mean\n",
        "y_pred_analytic = intercept_analytic + slope_analytic * X_test_scaled"
      ],
      "metadata": {
        "id": "joaEACD-XVLI"
      },
      "execution_count": null,
      "outputs": []
    },
    {
      "cell_type": "code",
      "source": [
        "sse_analytic = np.sum((y_test - y_pred_analytic) ** 2)\n",
        "sst_total = np.sum((y_test - np.mean(y_test)) ** 2)\n",
        "r2_analytic = 1 - sse_analytic / sst_total"
      ],
      "metadata": {
        "id": "0YwVWMi8XVQH"
      },
      "execution_count": null,
      "outputs": []
    },
    {
      "cell_type": "code",
      "source": [
        "print(\"Analytic Solution:\")\n",
        "print(f\"Intercept (b0): {intercept_analytic:.2f}\")\n",
        "print(f\"Slope (b1): {slope_analytic:.2f}\")\n",
        "print(f\"SSE: {sse_analytic:.2f}\")\n",
        "print(f\"R^2: {r2_analytic:.2f}\")"
      ],
      "metadata": {
        "id": "rBJJRVsOXqLM"
      },
      "execution_count": null,
      "outputs": []
    },
    {
      "cell_type": "code",
      "source": [
        "intercept_gd = 0.0\n",
        "slope_gd = 0.0\n",
        "alpha = 0.001\n",
        "epochs = 1000\n",
        "\n",
        "for epoch in range(epochs):\n",
        "    y_pred_gd = intercept_gd + slope_gd * X_train_scaled\n",
        "    error = y_pred_gd - y_train\n",
        "    intercept_gd -= alpha * (1 / len(y_train)) * np.sum(error)\n",
        "    slope_gd -= alpha * (1 / len(y_train)) * np.sum(error * X_train_scaled)\n",
        "\n",
        "y_pred_gd_test = intercept_gd + slope_gd * X_test_scaled\n"
      ],
      "metadata": {
        "id": "_0akc6PaXqN-"
      },
      "execution_count": null,
      "outputs": []
    },
    {
      "cell_type": "code",
      "source": [
        "sse_gd = np.sum((y_test - y_pred_gd_test) ** 2)\n",
        "r2_gd = 1 - sse_gd / sst_total"
      ],
      "metadata": {
        "id": "ZUd-7Sr_XqRG"
      },
      "execution_count": null,
      "outputs": []
    },
    {
      "cell_type": "code",
      "source": [
        "\n",
        "\n",
        "print(\"\\nFull-batch Gradient Descent Solution:\")\n",
        "print(f\"Intercept (b0_gd): {intercept_gd:.2f}\")\n",
        "print(f\"Slope (b1_gd): {slope_gd:.2f}\")\n",
        "print(f\"SSE: {sse_gd:.2f}\")\n",
        "print(f\"R^2: {r2_gd:.2f}\")"
      ],
      "metadata": {
        "id": "yMU3lsOmXqUA"
      },
      "execution_count": null,
      "outputs": []
    },
    {
      "cell_type": "code",
      "source": [
        "intercept_sgd = 0.0\n",
        "slope_sgd = 0.0\n",
        "alpha = 0.001\n",
        "epochs = 1000"
      ],
      "metadata": {
        "id": "UR-FHiggXqXG"
      },
      "execution_count": null,
      "outputs": []
    },
    {
      "cell_type": "code",
      "source": [
        "\n",
        "for epoch in range(epochs):\n",
        "    for i in range(len(X_train_scaled)):\n",
        "        y_pred_sgd = intercept_sgd + slope_sgd * X_train_scaled[i]\n",
        "        error = y_pred_sgd - y_train[i]\n",
        "        intercept_sgd -= alpha * error\n",
        "        slope_sgd -= alpha * error * X_train_scaled[i]"
      ],
      "metadata": {
        "id": "E0SxM2o6XqaP"
      },
      "execution_count": null,
      "outputs": []
    },
    {
      "cell_type": "code",
      "source": [
        "y_pred_sgd_test = intercept_sgd + slope_sgd * X_test_scaled\n"
      ],
      "metadata": {
        "id": "8zBMvkmpXqdI"
      },
      "execution_count": null,
      "outputs": []
    },
    {
      "cell_type": "code",
      "source": [
        "sse_sgd = np.sum((y_test - y_pred_sgd_test) ** 2)\n",
        "r2_sgd = 1 - sse_sgd / sst_total"
      ],
      "metadata": {
        "id": "5ycU5rTFXqgl"
      },
      "execution_count": null,
      "outputs": []
    },
    {
      "cell_type": "code",
      "source": [
        "\n",
        "print(\"\\nStochastic Gradient Descent Solution:\")\n",
        "print(f\"Intercept (b0_sgd): {intercept_sgd:.2f}\")\n",
        "print(f\"Slope (b1_sgd): {slope_sgd:.2f}\")\n",
        "print(f\"SSE: {sse_sgd:.2f}\")\n",
        "print(f\"R^2: {r2_sgd:.2f}\")\n",
        "\n",
        "\n",
        "plt.scatter(X_test_scaled, y_test, color='purple', label='Test Data')\n",
        "plt.plot(X_test_scaled, y_pred_analytic, color='orange', label='Analytic Solution')\n",
        "plt.plot(X_test_scaled, y_pred_gd_test, color='cyan', linestyle='--', label='Full-batch Gradient Descent Solution')\n",
        "plt.plot(X_test_scaled, y_pred_sgd_test, color='green', linestyle='-.', label='Stochastic Gradient Descent Solution')\n",
        "plt.xlabel(best_feature)\n",
        "plt.ylabel('PRICE')\n",
        "plt.legend()\n",
        "plt.title('Linear Regression: Analytic vs. Gradient Descent (Full-batch & Stochastic)')\n",
        "plt.show()"
      ],
      "metadata": {
        "id": "zz15joepYrXE"
      },
      "execution_count": null,
      "outputs": []
    }
  ]
}