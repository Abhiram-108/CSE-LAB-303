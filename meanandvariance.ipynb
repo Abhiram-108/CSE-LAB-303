{
  "nbformat": 4,
  "nbformat_minor": 0,
  "metadata": {
    "colab": {
      "provenance": [],
      "authorship_tag": "ABX9TyO6DNHpMHl25C2OlV3QbPVv",
      "include_colab_link": true
    },
    "kernelspec": {
      "name": "python3",
      "display_name": "Python 3"
    },
    "language_info": {
      "name": "python"
    }
  },
  "cells": [
    {
      "cell_type": "markdown",
      "metadata": {
        "id": "view-in-github",
        "colab_type": "text"
      },
      "source": [
        "<a href=\"https://colab.research.google.com/github/Abhiram-108/CSE-LAB-303/blob/main/meanandvariance.ipynb\" target=\"_parent\"><img src=\"https://colab.research.google.com/assets/colab-badge.svg\" alt=\"Open In Colab\"/></a>"
      ]
    },
    {
      "cell_type": "code",
      "execution_count": null,
      "metadata": {
        "id": "JcIGjYtDwGyE"
      },
      "outputs": [],
      "source": [
        "import numpy as np\n"
      ]
    },
    {
      "cell_type": "code",
      "source": [
        "x=np.array([1,2,3,4,5,6,7,8,9,10])"
      ],
      "metadata": {
        "id": "8KmfdwlPwNZg"
      },
      "execution_count": null,
      "outputs": []
    },
    {
      "cell_type": "code",
      "source": [
        "x_mean=np.mean(x)\n",
        "x_variance=np.sum((x-x_mean)**2)/len(x)"
      ],
      "metadata": {
        "id": "Qp30ldvgwS5q"
      },
      "execution_count": null,
      "outputs": []
    },
    {
      "cell_type": "markdown",
      "source": [
        "MEAN OF GIVEN VECTOR **DATA**"
      ],
      "metadata": {
        "id": "8yiqcriExSLi"
      }
    },
    {
      "cell_type": "code",
      "source": [
        "x_mean"
      ],
      "metadata": {
        "colab": {
          "base_uri": "https://localhost:8080/"
        },
        "id": "hEFbK7BGxBLK",
        "outputId": "6249a7b3-28db-4d9c-c97c-3ea7dad383fb"
      },
      "execution_count": null,
      "outputs": [
        {
          "output_type": "execute_result",
          "data": {
            "text/plain": [
              "5.5"
            ]
          },
          "metadata": {},
          "execution_count": 4
        }
      ]
    },
    {
      "cell_type": "markdown",
      "source": [
        "**VARIANCE** OF GIVEN VECTOR DATA"
      ],
      "metadata": {
        "id": "LPjomEjjxZFQ"
      }
    },
    {
      "cell_type": "code",
      "source": [
        "x_variance"
      ],
      "metadata": {
        "colab": {
          "base_uri": "https://localhost:8080/"
        },
        "id": "AoK8YAqTxDl-",
        "outputId": "2f25316d-a7ef-49f7-a6d6-422c21776db1"
      },
      "execution_count": null,
      "outputs": [
        {
          "output_type": "execute_result",
          "data": {
            "text/plain": [
              "8.25"
            ]
          },
          "metadata": {},
          "execution_count": 5
        }
      ]
    },
    {
      "cell_type": "code",
      "source": [],
      "metadata": {
        "id": "o7Gip5ukxQjX"
      },
      "execution_count": null,
      "outputs": []
    }
  ]
}