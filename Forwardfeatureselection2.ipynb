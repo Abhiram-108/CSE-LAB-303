{
  "nbformat": 4,
  "nbformat_minor": 0,
  "metadata": {
    "colab": {
      "provenance": [],
      "authorship_tag": "ABX9TyOpkvVNdgabOOaNowGSugBL",
      "include_colab_link": true
    },
    "kernelspec": {
      "name": "python3",
      "display_name": "Python 3"
    },
    "language_info": {
      "name": "python"
    }
  },
  "cells": [
    {
      "cell_type": "markdown",
      "metadata": {
        "id": "view-in-github",
        "colab_type": "text"
      },
      "source": [
        "<a href=\"https://colab.research.google.com/github/Abhiram-108/CSE-LAB-303/blob/main/Forwardfeatureselection2.ipynb\" target=\"_parent\"><img src=\"https://colab.research.google.com/assets/colab-badge.svg\" alt=\"Open In Colab\"/></a>"
      ]
    },
    {
      "cell_type": "code",
      "execution_count": 5,
      "metadata": {
        "colab": {
          "base_uri": "https://localhost:8080/"
        },
        "id": "pIZwVPEeKhNm",
        "outputId": "e6ca4fa7-2796-4d43-ade9-672cb60798fb"
      },
      "outputs": [
        {
          "output_type": "stream",
          "name": "stdout",
          "text": [
            "Selected features: [ 0  1  2  8  9 10]\n",
            "Mean Absolute Error after feature selection: 310442.66414210177\n",
            "R2 score: 0.4398394043768179\n"
          ]
        }
      ],
      "source": [
        "\n",
        "import pandas as pd\n",
        "from sklearn.model_selection import train_test_split\n",
        "from sklearn.impute import SimpleImputer\n",
        "from sklearn.linear_model import LinearRegression\n",
        "from sklearn.feature_selection import SequentialFeatureSelector\n",
        "from sklearn.metrics import mean_absolute_error\n",
        "from sklearn.metrics import r2_score\n",
        "from sklearn.metrics import accuracy_score\n",
        "\n",
        "\n",
        "# Load the dataset\n",
        "file_path = '/content/melbourne_housing_raw.csv'\n",
        "melbourne_data = pd.read_csv(file_path)\n",
        "\n",
        "# Handle missing data by dropping rows with missing target values (Price)\n",
        "melbourne_data_clean = melbourne_data.dropna(subset=['Price'])\n",
        "X_full = melbourne_data_clean.drop(['Price'], axis=1)\n",
        "y_full = melbourne_data_clean['Price']\n",
        "\n",
        "# Select only numeric columns for simplicity\n",
        "X_numeric = X_full.select_dtypes(exclude=['object'])\n",
        "\n",
        "# Handle missing values in the numeric columns\n",
        "imputer = SimpleImputer(strategy='mean')\n",
        "X_numeric_imputed = imputer.fit_transform(X_numeric)\n",
        "\n",
        "# Split data into training and testing sets\n",
        "X_train, X_test, y_train, y_test = train_test_split(X_numeric_imputed, y_full, test_size=0.2, random_state=42)\n",
        "\n",
        "# Initialize the linear regression model\n",
        "model = LinearRegression()\n",
        "\n",
        "# Implement forward feature selection using SequentialFeatureSelector\n",
        "sfs = SequentialFeatureSelector(model, direction='forward', n_features_to_select='auto', scoring='neg_mean_absolute_error', cv=5)\n",
        "\n",
        "# Fit the selector on the training data\n",
        "sfs.fit(X_train, y_train)\n",
        "\n",
        "# Get the selected features\n",
        "selected_features = sfs.get_support(indices=True)\n",
        "\n",
        "# Train the model on the selected features\n",
        "X_train_selected = X_train[:, selected_features]\n",
        "X_test_selected = X_test[:, selected_features]\n",
        "model.fit(X_train_selected, y_train)\n",
        "\n",
        "# Make predictions and evaluate the model\n",
        "y_pred = model.predict(X_test_selected)\n",
        "mae = mean_absolute_error(y_test, y_pred)\n",
        "r2=r2_score(y_test, y_pred)\n",
        "\n",
        "\n",
        "# Output the results\n",
        "print(\"Selected features:\", selected_features)\n",
        "print(\"Mean Absolute Error after feature selection:\", mae)\n",
        "print(\"R2 score:\", r2)\n",
        "\n"
      ]
    },
    {
      "cell_type": "code",
      "source": [
        "\n"
      ],
      "metadata": {
        "id": "T9nGfQlELFGV"
      },
      "execution_count": 4,
      "outputs": []
    },
    {
      "cell_type": "code",
      "source": [],
      "metadata": {
        "id": "Sh0EkJGLL0jc"
      },
      "execution_count": null,
      "outputs": []
    }
  ]
}