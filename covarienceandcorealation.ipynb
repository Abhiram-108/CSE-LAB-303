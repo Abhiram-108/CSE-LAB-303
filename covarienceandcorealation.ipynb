{
  "nbformat": 4,
  "nbformat_minor": 0,
  "metadata": {
    "colab": {
      "provenance": [],
      "authorship_tag": "ABX9TyOYON0aqqa80wqHO67W/Vld",
      "include_colab_link": true
    },
    "kernelspec": {
      "name": "python3",
      "display_name": "Python 3"
    },
    "language_info": {
      "name": "python"
    }
  },
  "cells": [
    {
      "cell_type": "markdown",
      "metadata": {
        "id": "view-in-github",
        "colab_type": "text"
      },
      "source": [
        "<a href=\"https://colab.research.google.com/github/Abhiram-108/CSE-LAB-303/blob/main/covarienceandcorealation.ipynb\" target=\"_parent\"><img src=\"https://colab.research.google.com/assets/colab-badge.svg\" alt=\"Open In Colab\"/></a>"
      ]
    },
    {
      "cell_type": "code",
      "execution_count": null,
      "metadata": {
        "id": "uHGk02F9yM3w"
      },
      "outputs": [],
      "source": [
        "import numpy as np"
      ]
    },
    {
      "cell_type": "code",
      "source": [
        "x = np.array([\n",
        "    [1, 2, 5],\n",
        "    [2, 3, 4],\n",
        "    [3, 4, 3],\n",
        "    [4, 5, 2],\n",
        "    [5, 6, 1]\n",
        "])"
      ],
      "metadata": {
        "id": "9FI4RgpayPXw"
      },
      "execution_count": null,
      "outputs": []
    },
    {
      "cell_type": "code",
      "source": [
        "x=x.T\n"
      ],
      "metadata": {
        "id": "D-8E93jfyWqP"
      },
      "execution_count": null,
      "outputs": []
    },
    {
      "cell_type": "code",
      "source": [
        "cov_matrix = np.cov(x, rowvar=False)"
      ],
      "metadata": {
        "id": "AziQTfLGycSN"
      },
      "execution_count": null,
      "outputs": []
    },
    {
      "cell_type": "code",
      "source": [
        "corr_matrix = np.corrcoef(x, rowvar=False)"
      ],
      "metadata": {
        "id": "M_bONhxRy1q_"
      },
      "execution_count": null,
      "outputs": []
    },
    {
      "cell_type": "markdown",
      "source": [
        "***COV_MATRIX***"
      ],
      "metadata": {
        "id": "u5gROFVm6dbr"
      }
    },
    {
      "cell_type": "code",
      "source": [],
      "metadata": {
        "id": "R0JEM7vY6b08"
      },
      "execution_count": null,
      "outputs": []
    },
    {
      "cell_type": "code",
      "source": [
        "print(cov_matrix)"
      ],
      "metadata": {
        "colab": {
          "base_uri": "https://localhost:8080/"
        },
        "id": "S-ir107p0Rs4",
        "outputId": "a032450b-8fe6-4b12-886c-2b08ff979304"
      },
      "execution_count": null,
      "outputs": [
        {
          "output_type": "stream",
          "name": "stdout",
          "text": [
            "[[ 4.33333333  2.         -0.33333333 -2.66666667 -5.        ]\n",
            " [ 2.          1.          0.         -1.         -2.        ]\n",
            " [-0.33333333  0.          0.33333333  0.66666667  1.        ]\n",
            " [-2.66666667 -1.          0.66666667  2.33333333  4.        ]\n",
            " [-5.         -2.          1.          4.          7.        ]]\n"
          ]
        }
      ]
    },
    {
      "cell_type": "markdown",
      "source": [
        "***`CORR_MATRIX`***"
      ],
      "metadata": {
        "id": "tSwajoor6h1J"
      }
    },
    {
      "cell_type": "code",
      "source": [
        "print(corr_matrix)"
      ],
      "metadata": {
        "colab": {
          "base_uri": "https://localhost:8080/"
        },
        "id": "U_GVatGQ0d6p",
        "outputId": "ddf14f03-c271-447f-d109-f632ffc031c5"
      },
      "execution_count": null,
      "outputs": [
        {
          "output_type": "stream",
          "name": "stdout",
          "text": [
            "[[ 1.          0.96076892 -0.2773501  -0.83862787 -0.9078413 ]\n",
            " [ 0.96076892  1.          0.         -0.65465367 -0.75592895]\n",
            " [-0.2773501   0.          1.          0.75592895  0.65465367]\n",
            " [-0.83862787 -0.65465367  0.75592895  1.          0.98974332]\n",
            " [-0.9078413  -0.75592895  0.65465367  0.98974332  1.        ]]\n"
          ]
        }
      ]
    },
    {
      "cell_type": "code",
      "source": [],
      "metadata": {
        "id": "8wVbi7BQ1Gi4"
      },
      "execution_count": null,
      "outputs": []
    }
  ]
}