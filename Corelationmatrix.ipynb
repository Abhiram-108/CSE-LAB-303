{
  "nbformat": 4,
  "nbformat_minor": 0,
  "metadata": {
    "colab": {
      "provenance": [],
      "authorship_tag": "ABX9TyOhm2rKOcHKPwNXtXeCOgOu",
      "include_colab_link": true
    },
    "kernelspec": {
      "name": "python3",
      "display_name": "Python 3"
    },
    "language_info": {
      "name": "python"
    }
  },
  "cells": [
    {
      "cell_type": "markdown",
      "metadata": {
        "id": "view-in-github",
        "colab_type": "text"
      },
      "source": [
        "<a href=\"https://colab.research.google.com/github/Abhiram-108/CSE-LAB-303/blob/main/Corelationmatrix.ipynb\" target=\"_parent\"><img src=\"https://colab.research.google.com/assets/colab-badge.svg\" alt=\"Open In Colab\"/></a>"
      ]
    },
    {
      "cell_type": "code",
      "source": [],
      "metadata": {
        "id": "f58pVNftAVOP"
      },
      "execution_count": null,
      "outputs": []
    },
    {
      "cell_type": "code",
      "execution_count": null,
      "metadata": {
        "id": "uHGk02F9yM3w"
      },
      "outputs": [],
      "source": [
        "import numpy as np"
      ]
    },
    {
      "cell_type": "code",
      "source": [
        "m, n = 5, 10"
      ],
      "metadata": {
        "id": "9FI4RgpayPXw"
      },
      "execution_count": null,
      "outputs": []
    },
    {
      "cell_type": "code",
      "source": [
        "matrix=np.random.randint(10, size=(m, n))\n"
      ],
      "metadata": {
        "id": "D-8E93jfyWqP"
      },
      "execution_count": null,
      "outputs": []
    },
    {
      "cell_type": "code",
      "source": [
        "cov_matrix = np.cov(matrix)"
      ],
      "metadata": {
        "id": "AziQTfLGycSN"
      },
      "execution_count": null,
      "outputs": []
    },
    {
      "cell_type": "markdown",
      "source": [
        "**COV_MATRIX**"
      ],
      "metadata": {
        "id": "ILXeaNUXArZR"
      }
    },
    {
      "cell_type": "code",
      "source": [
        "print(cov_matrix)\n"
      ],
      "metadata": {
        "id": "M_bONhxRy1q_",
        "colab": {
          "base_uri": "https://localhost:8080/"
        },
        "outputId": "9ce70939-b9c9-4b7a-b1be-245e4f4eb17d"
      },
      "execution_count": null,
      "outputs": [
        {
          "output_type": "stream",
          "name": "stdout",
          "text": [
            "[[ 8.9         2.96666667  0.97777778 -0.37777778 -3.18888889]\n",
            " [ 2.96666667 10.1         0.95555556  3.68888889  5.01111111]\n",
            " [ 0.97777778  0.95555556  8.93333333  1.08888889 -0.17777778]\n",
            " [-0.37777778  3.68888889  1.08888889  8.62222222  1.97777778]\n",
            " [-3.18888889  5.01111111 -0.17777778  1.97777778 10.98888889]]\n"
          ]
        }
      ]
    },
    {
      "cell_type": "code",
      "source": [
        "std_deviations = np.sqrt(np.diag(cov_matrix))"
      ],
      "metadata": {
        "id": "R0JEM7vY6b08"
      },
      "execution_count": null,
      "outputs": []
    },
    {
      "cell_type": "code",
      "source": [
        "correlation_matrix = cov_matrix / np.outer(std_deviations, std_deviations)"
      ],
      "metadata": {
        "id": "S-ir107p0Rs4"
      },
      "execution_count": null,
      "outputs": []
    },
    {
      "cell_type": "markdown",
      "source": [
        "***`CORR_MATRIX`***"
      ],
      "metadata": {
        "id": "tSwajoor6h1J"
      }
    },
    {
      "cell_type": "code",
      "source": [
        "\n",
        "print(\"Correlation Matrix:\")\n",
        "print(correlation_matrix)"
      ],
      "metadata": {
        "colab": {
          "base_uri": "https://localhost:8080/"
        },
        "id": "U_GVatGQ0d6p",
        "outputId": "7db6687a-d934-4009-9fa9-54ef68d0ed5f"
      },
      "execution_count": null,
      "outputs": [
        {
          "output_type": "stream",
          "name": "stdout",
          "text": [
            "Correlation Matrix:\n",
            "[[ 1.          0.3129054   0.10965751 -0.04312527 -0.3224538 ]\n",
            " [ 0.3129054   1.          0.1005978   0.3952986   0.47565981]\n",
            " [ 0.10965751  0.1005978   1.          0.12407012 -0.01794295]\n",
            " [-0.04312527  0.3952986   0.12407012  1.          0.2031847 ]\n",
            " [-0.3224538   0.47565981 -0.01794295  0.2031847   1.        ]]\n"
          ]
        }
      ]
    },
    {
      "cell_type": "code",
      "source": [],
      "metadata": {
        "id": "8wVbi7BQ1Gi4"
      },
      "execution_count": null,
      "outputs": []
    }
  ]
}