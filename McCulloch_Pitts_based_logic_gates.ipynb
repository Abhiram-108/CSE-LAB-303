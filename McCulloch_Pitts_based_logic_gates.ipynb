{
  "nbformat": 4,
  "nbformat_minor": 0,
  "metadata": {
    "colab": {
      "provenance": [],
      "authorship_tag": "ABX9TyMEA7UwrZ/lhvU2Rcdxa2cI",
      "include_colab_link": true
    },
    "kernelspec": {
      "name": "python3",
      "display_name": "Python 3"
    },
    "language_info": {
      "name": "python"
    }
  },
  "cells": [
    {
      "cell_type": "markdown",
      "metadata": {
        "id": "view-in-github",
        "colab_type": "text"
      },
      "source": [
        "<a href=\"https://colab.research.google.com/github/Abhiram-108/CSE-LAB-303/blob/main/McCulloch_Pitts_based_logic_gates.ipynb\" target=\"_parent\"><img src=\"https://colab.research.google.com/assets/colab-badge.svg\" alt=\"Open In Colab\"/></a>"
      ]
    },
    {
      "cell_type": "code",
      "execution_count": null,
      "metadata": {
        "id": "Ha54VlhsrHaw"
      },
      "outputs": [],
      "source": [
        "test_inputs = [(0, 0), (0, 1), (1, 0), (1, 1)]"
      ]
    },
    {
      "cell_type": "markdown",
      "source": [
        "AND ***GATE***"
      ],
      "metadata": {
        "id": "Zs1RTdHWsFPV"
      }
    },
    {
      "cell_type": "code",
      "source": [
        "for a, b in test_inputs:\n",
        "    weights_and = [1, 1]\n",
        "    threshold_and = 2\n",
        "    total_and = a * weights_and[0] + b * weights_and[1]\n",
        "    result_and = 1 if total_and >= threshold_and else 0\n",
        "    print(f\"AND({a}, {b}) = {result_and}\")\n"
      ],
      "metadata": {
        "colab": {
          "base_uri": "https://localhost:8080/"
        },
        "id": "x_a6OqJ2rKu7",
        "outputId": "fed47716-5706-462d-bfee-67b834302d92"
      },
      "execution_count": null,
      "outputs": [
        {
          "output_type": "stream",
          "name": "stdout",
          "text": [
            "AND(0, 0) = 0\n",
            "AND(0, 1) = 0\n",
            "AND(1, 0) = 0\n",
            "AND(1, 1) = 1\n"
          ]
        }
      ]
    },
    {
      "cell_type": "markdown",
      "source": [
        "OR **GATE**"
      ],
      "metadata": {
        "id": "T4K2e6DxsMHv"
      }
    },
    {
      "cell_type": "code",
      "source": [
        "for a, b in test_inputs:\n",
        "    weights_or = [1, 1]\n",
        "    threshold_or = 1\n",
        "    total_or = a * weights_or[0] + b * weights_or[1]\n",
        "    result_or = 1 if total_or >= threshold_or else 0\n",
        "    print(f\"OR({a}, {b}) = {result_or}\")"
      ],
      "metadata": {
        "colab": {
          "base_uri": "https://localhost:8080/"
        },
        "id": "wQRk1QmvrRRr",
        "outputId": "940120fa-d672-484b-a383-1128a733da36"
      },
      "execution_count": null,
      "outputs": [
        {
          "output_type": "stream",
          "name": "stdout",
          "text": [
            "OR(0, 0) = 0\n",
            "OR(0, 1) = 1\n",
            "OR(1, 0) = 1\n",
            "OR(1, 1) = 1\n"
          ]
        }
      ]
    },
    {
      "cell_type": "markdown",
      "source": [
        "NOT *GATE*"
      ],
      "metadata": {
        "id": "F3qpF4aCsP4X"
      }
    },
    {
      "cell_type": "code",
      "source": [
        "for a in [0, 1]:\n",
        "    weight_not = [-1]\n",
        "    threshold_not = 0\n",
        "    total_not = a * weight_not[0]\n",
        "    result_not = 1 if total_not >= threshold_not else 0\n",
        "    print(f\"NOT({a}) = {result_not}\")"
      ],
      "metadata": {
        "colab": {
          "base_uri": "https://localhost:8080/"
        },
        "id": "7bZxVv-erXY8",
        "outputId": "d2f7b3b5-618b-4455-f365-5f7f74bb7aae"
      },
      "execution_count": null,
      "outputs": [
        {
          "output_type": "stream",
          "name": "stdout",
          "text": [
            "NOT(0) = 1\n",
            "NOT(1) = 0\n"
          ]
        }
      ]
    },
    {
      "cell_type": "markdown",
      "source": [
        "NAND *GATE*"
      ],
      "metadata": {
        "id": "7_2nbpezsS9N"
      }
    },
    {
      "cell_type": "code",
      "source": [
        "for a, b in test_inputs:\n",
        "    weights_nand = [-1, -1]\n",
        "    threshold_nand = -1\n",
        "    total_nand = a * weights_nand[0] + b * weights_nand[1]\n",
        "    result_nand = 1 if total_nand >= threshold_nand else 0\n",
        "    print(f\"NAND({a}, {b}) = {result_nand}\")"
      ],
      "metadata": {
        "colab": {
          "base_uri": "https://localhost:8080/"
        },
        "id": "7HkiLWdsra_D",
        "outputId": "40caa768-1f8c-4190-f32f-7e191c989286"
      },
      "execution_count": null,
      "outputs": [
        {
          "output_type": "stream",
          "name": "stdout",
          "text": [
            "NAND(0, 0) = 1\n",
            "NAND(0, 1) = 1\n",
            "NAND(1, 0) = 1\n",
            "NAND(1, 1) = 0\n"
          ]
        }
      ]
    },
    {
      "cell_type": "markdown",
      "source": [
        "NOR *GATE*"
      ],
      "metadata": {
        "id": "iZUAchu0sVTn"
      }
    },
    {
      "cell_type": "code",
      "source": [
        "for a, b in test_inputs:\n",
        "    weights_nor = [-1, -1]\n",
        "    threshold_nor = 0\n",
        "    total_nor = a * weights_nor[0] + b * weights_nor[1]\n",
        "    result_nor = 1 if total_nor >= threshold_nor else 0\n",
        "    print(f\"NOR({a}, {b}) = {result_nor}\")"
      ],
      "metadata": {
        "colab": {
          "base_uri": "https://localhost:8080/"
        },
        "id": "jpSLX0lure88",
        "outputId": "0c0606af-95aa-40d3-b09f-3e2df2767ae3"
      },
      "execution_count": null,
      "outputs": [
        {
          "output_type": "stream",
          "name": "stdout",
          "text": [
            "NOR(0, 0) = 1\n",
            "NOR(0, 1) = 0\n",
            "NOR(1, 0) = 0\n",
            "NOR(1, 1) = 0\n"
          ]
        }
      ]
    },
    {
      "cell_type": "markdown",
      "source": [
        "XOR ***GATE***"
      ],
      "metadata": {
        "id": "08ttYBfJsYUk"
      }
    },
    {
      "cell_type": "code",
      "source": [
        "for a, b in test_inputs:\n",
        "\n",
        "    # OR step\n",
        "    weights_xor_or = [1, 1]\n",
        "    threshold_xor_or = 1\n",
        "    total_xor_or = a * weights_xor_or[0] + b * weights_xor_or[1]\n",
        "    or_part = 1 if total_xor_or >= threshold_xor_or else 0\n",
        "\n",
        "    # NAND step\n",
        "    weights_xor_nand = [-1, -1]\n",
        "    threshold_xor_nand = -1\n",
        "    total_xor_nand = a * weights_xor_nand[0] + b * weights_xor_nand[1]\n",
        "    nand_part = 1 if total_xor_nand >= threshold_xor_nand else 0\n",
        "\n",
        "   # (combine OR and NAND outputs)\n",
        "    weights_xor_and = [1, 1]\n",
        "    threshold_xor_and = 2\n",
        "    total_xor = or_part * weights_xor_and[0] + nand_part * weights_xor_and[1]\n",
        "    result_xor = 1 if total_xor >= threshold_xor_and else 0\n",
        "\n",
        "    print(f\"XOR({a}, {b}) = {result_xor}\")"
      ],
      "metadata": {
        "colab": {
          "base_uri": "https://localhost:8080/"
        },
        "id": "Z-Z3aulirhYb",
        "outputId": "fd80c978-c396-402e-f217-5e799ab9ede4"
      },
      "execution_count": null,
      "outputs": [
        {
          "output_type": "stream",
          "name": "stdout",
          "text": [
            "XOR(0, 0) = 0\n",
            "XOR(0, 1) = 1\n",
            "XOR(1, 0) = 1\n",
            "XOR(1, 1) = 0\n"
          ]
        }
      ]
    },
    {
      "cell_type": "code",
      "source": [],
      "metadata": {
        "id": "xwnAEMWvruIk"
      },
      "execution_count": null,
      "outputs": []
    }
  ]
}