{
  "nbformat": 4,
  "nbformat_minor": 0,
  "metadata": {
    "colab": {
      "provenance": [],
      "authorship_tag": "ABX9TyNcQ1QY9aFKHODx28gj2p6q",
      "include_colab_link": true
    },
    "kernelspec": {
      "name": "python3",
      "display_name": "Python 3"
    },
    "language_info": {
      "name": "python"
    }
  },
  "cells": [
    {
      "cell_type": "markdown",
      "metadata": {
        "id": "view-in-github",
        "colab_type": "text"
      },
      "source": [
        "<a href=\"https://colab.research.google.com/github/Abhiram-108/CSE-LAB-303/blob/main/Lowvariancefilter2.ipynb\" target=\"_parent\"><img src=\"https://colab.research.google.com/assets/colab-badge.svg\" alt=\"Open In Colab\"/></a>"
      ]
    },
    {
      "cell_type": "code",
      "execution_count": 14,
      "metadata": {
        "id": "7xNbh_Qn9yXa"
      },
      "outputs": [],
      "source": [
        "import pandas as pd\n",
        "from sklearn.model_selection import train_test_split\n",
        "from sklearn.impute import SimpleImputer\n",
        "from sklearn.ensemble import RandomForestRegressor\n",
        "from sklearn.feature_selection import VarianceThreshold\n",
        "from sklearn.metrics import mean_absolute_error\n",
        "\n",
        "\n",
        "\n"
      ]
    },
    {
      "cell_type": "code",
      "source": [
        "file_path = '/content/melbourne_housing_raw.csv'\n",
        "melbourne_data = pd.read_csv(file_path)"
      ],
      "metadata": {
        "id": "afy6mYis-vnj"
      },
      "execution_count": 15,
      "outputs": []
    },
    {
      "cell_type": "code",
      "source": [
        "melbourne_data_clean = melbourne_data.dropna(subset=['Price'])\n",
        "X_full = melbourne_data_clean.drop(['Price'], axis=1)\n",
        "y_full = melbourne_data_clean['Price']"
      ],
      "metadata": {
        "id": "Pb8ixi-J-2LK"
      },
      "execution_count": 16,
      "outputs": []
    },
    {
      "cell_type": "code",
      "source": [
        "\n",
        "# Select numeric columns only\n",
        "X_numeric = X_full.select_dtypes(exclude=['object'])"
      ],
      "metadata": {
        "id": "fbEAFpPZAe_x"
      },
      "execution_count": 17,
      "outputs": []
    },
    {
      "cell_type": "code",
      "source": [
        "# Split into training and test datasets\n",
        "X_train, X_test, y_train, y_test = train_test_split(X_numeric, y_full, test_size=0.2, random_state=0)"
      ],
      "metadata": {
        "id": "_tBgD2dtAuX0"
      },
      "execution_count": 18,
      "outputs": []
    },
    {
      "cell_type": "code",
      "source": [
        "# Impute missing values for numerical columns\n",
        "imputer = SimpleImputer(strategy='mean')\n",
        "X_train_imputed = imputer.fit_transform(X_train)\n",
        "X_test_imputed = imputer.transform(X_test)\n"
      ],
      "metadata": {
        "id": "3HzHRwhrDL01"
      },
      "execution_count": 19,
      "outputs": []
    },
    {
      "cell_type": "code",
      "source": [
        "# Step 1: Train model without removing low-variance features\n",
        "model = RandomForestRegressor(random_state=0)\n",
        "model.fit(X_train_imputed, y_train)\n",
        "y_pred_initial = model.predict(X_test_imputed)\n",
        "mae_initial = mean_absolute_error(y_test, y_pred_initial)\n",
        "from sklearn.metrics import r2_score\n",
        "r2_initial = r2_score(y_test, y_pred_initial)\n",
        "\n"
      ],
      "metadata": {
        "id": "TiwwfiLrDOyb"
      },
      "execution_count": 25,
      "outputs": []
    },
    {
      "cell_type": "code",
      "source": [
        "# Step 2: Remove low-variance features\n",
        "variance_threshold = VarianceThreshold(threshold=0.01)  # Adjust threshold if needed\n",
        "X_train_var_filtered = variance_threshold.fit_transform(X_train_imputed)\n",
        "X_test_var_filtered = variance_threshold.transform(X_test_imputed)"
      ],
      "metadata": {
        "id": "klTVXaFuIAky"
      },
      "execution_count": 26,
      "outputs": []
    },
    {
      "cell_type": "code",
      "source": [
        "# Step 3: Train the model after removing low-variance features\n",
        "model.fit(X_train_var_filtered, y_train)\n",
        "y_pred_filtered = model.predict(X_test_var_filtered)\n",
        "mae_after_removal = mean_absolute_error(y_test, y_pred_filtered)\n",
        "r2_final = r2_score(y_test, y_pred_filtered)"
      ],
      "metadata": {
        "id": "ken5e0NKD5qe"
      },
      "execution_count": 30,
      "outputs": []
    },
    {
      "cell_type": "code",
      "source": [
        "# Output the results\n",
        "print(\"MAE before removing low-variance features:\", mae_initial)\n",
        "print(\"MAE after removing low-variance features:\", mae_after_removal)"
      ],
      "metadata": {
        "colab": {
          "base_uri": "https://localhost:8080/"
        },
        "id": "TYap3hr5IE4i",
        "outputId": "4ac15e90-bdd8-48db-ba84-8840f6055167"
      },
      "execution_count": 31,
      "outputs": [
        {
          "output_type": "stream",
          "name": "stdout",
          "text": [
            "MAE before removing low-variance features: 177684.04652441444\n",
            "MAE after removing low-variance features: 180584.93886446857\n"
          ]
        }
      ]
    },
    {
      "cell_type": "code",
      "source": [
        "print(\"R2 before removing low-variance features:\", r2_initial)\n",
        "print(\"R2 after removing low-variance features:\", r2_final)"
      ],
      "metadata": {
        "colab": {
          "base_uri": "https://localhost:8080/"
        },
        "id": "T93QZsfhIH0k",
        "outputId": "dd753109-5450-4605-8b10-581b9a509305"
      },
      "execution_count": 32,
      "outputs": [
        {
          "output_type": "stream",
          "name": "stdout",
          "text": [
            "R2 before removing low-variance features: 0.7692490565510182\n",
            "R2 after removing low-variance features: 0.7635169483457628\n"
          ]
        }
      ]
    },
    {
      "cell_type": "code",
      "source": [],
      "metadata": {
        "id": "zY45fEDHJSCk"
      },
      "execution_count": null,
      "outputs": []
    }
  ]
}