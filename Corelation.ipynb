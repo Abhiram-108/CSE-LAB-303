{
  "nbformat": 4,
  "nbformat_minor": 0,
  "metadata": {
    "colab": {
      "provenance": [],
      "authorship_tag": "ABX9TyPshISJKR8X2NQh19oGTer+",
      "include_colab_link": true
    },
    "kernelspec": {
      "name": "python3",
      "display_name": "Python 3"
    },
    "language_info": {
      "name": "python"
    }
  },
  "cells": [
    {
      "cell_type": "markdown",
      "metadata": {
        "id": "view-in-github",
        "colab_type": "text"
      },
      "source": [
        "<a href=\"https://colab.research.google.com/github/Abhiram-108/CSE-LAB-303/blob/main/Corelation.ipynb\" target=\"_parent\"><img src=\"https://colab.research.google.com/assets/colab-badge.svg\" alt=\"Open In Colab\"/></a>"
      ]
    },
    {
      "cell_type": "code",
      "source": [
        "import numpy as np\n"
      ],
      "metadata": {
        "id": "mTO0QelprSk7"
      },
      "execution_count": null,
      "outputs": []
    },
    {
      "cell_type": "code",
      "execution_count": null,
      "metadata": {
        "id": "8LxM-GZsrHEY"
      },
      "outputs": [],
      "source": [
        "x=np.array([1,3,5,7,9])\n",
        "y=np.array([2,4,6,8,10])\n"
      ]
    },
    {
      "cell_type": "code",
      "source": [
        "x_mean=np.mean(x)\n",
        "y_mean=np.mean(y)"
      ],
      "metadata": {
        "id": "dUuMZ7_wrjeA"
      },
      "execution_count": null,
      "outputs": []
    },
    {
      "cell_type": "markdown",
      "source": [
        "![Screenshot 2024-08-31 143954.png](data:image/png;base64,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)"
      ],
      "metadata": {
        "id": "_TOkqcbrsk86"
      }
    },
    {
      "cell_type": "code",
      "source": [
        "numerator=np.sum((x-x_mean)*(y-y_mean))\n"
      ],
      "metadata": {
        "id": "UdvDUFAQrphX"
      },
      "execution_count": null,
      "outputs": []
    },
    {
      "cell_type": "code",
      "source": [
        "denominator=np.sqrt(np.sum((x-x_mean)**2)* np.sum((y-y_mean)**2))\n"
      ],
      "metadata": {
        "id": "tgP0itDJr4Gj"
      },
      "execution_count": null,
      "outputs": []
    },
    {
      "cell_type": "code",
      "source": [
        "corelation=numerator/denominator"
      ],
      "metadata": {
        "id": "WEY1TowBsQZI"
      },
      "execution_count": null,
      "outputs": []
    },
    {
      "cell_type": "markdown",
      "source": [
        "### **the Correlation between  above 2 vectors is**"
      ],
      "metadata": {
        "id": "HxEJAwARs7xI"
      }
    },
    {
      "cell_type": "code",
      "source": [
        "corelation"
      ],
      "metadata": {
        "colab": {
          "base_uri": "https://localhost:8080/"
        },
        "id": "3uwFq34NsZVS",
        "outputId": "bc92138f-01f6-45df-a2eb-ff0260117974"
      },
      "execution_count": null,
      "outputs": [
        {
          "output_type": "execute_result",
          "data": {
            "text/plain": [
              "1.0"
            ]
          },
          "metadata": {},
          "execution_count": 7
        }
      ]
    },
    {
      "cell_type": "code",
      "source": [
        "numerator,denominator\n"
      ],
      "metadata": {
        "colab": {
          "base_uri": "https://localhost:8080/"
        },
        "id": "BXKZgtBqsawp",
        "outputId": "af33c4e3-f8e4-4e9e-fc1f-382c142fe51b"
      },
      "execution_count": null,
      "outputs": [
        {
          "output_type": "execute_result",
          "data": {
            "text/plain": [
              "(40.0, 40.0)"
            ]
          },
          "metadata": {},
          "execution_count": 8
        }
      ]
    },
    {
      "cell_type": "code",
      "source": [],
      "metadata": {
        "id": "i4EnA6H2sg2g"
      },
      "execution_count": null,
      "outputs": []
    }
  ]
}