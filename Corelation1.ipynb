{
  "nbformat": 4,
  "nbformat_minor": 0,
  "metadata": {
    "colab": {
      "provenance": [],
      "authorship_tag": "ABX9TyPPEXrEOK9u9U3B2/p2imAw",
      "include_colab_link": true
    },
    "kernelspec": {
      "name": "python3",
      "display_name": "Python 3"
    },
    "language_info": {
      "name": "python"
    }
  },
  "cells": [
    {
      "cell_type": "markdown",
      "metadata": {
        "id": "view-in-github",
        "colab_type": "text"
      },
      "source": [
        "<a href=\"https://colab.research.google.com/github/Abhiram-108/CSE-LAB-303/blob/main/Corelation1.ipynb\" target=\"_parent\"><img src=\"https://colab.research.google.com/assets/colab-badge.svg\" alt=\"Open In Colab\"/></a>"
      ]
    },
    {
      "cell_type": "code",
      "source": [
        "import numpy as np\n"
      ],
      "metadata": {
        "id": "mTO0QelprSk7"
      },
      "execution_count": null,
      "outputs": []
    },
    {
      "cell_type": "code",
      "execution_count": null,
      "metadata": {
        "id": "8LxM-GZsrHEY"
      },
      "outputs": [],
      "source": [
        "x=np.array([1,3,5,7,9])\n",
        "y=np.array([2,4,6,8,10])\n"
      ]
    },
    {
      "cell_type": "code",
      "source": [],
      "metadata": {
        "id": "Tr4QB0g8BcJu"
      },
      "execution_count": null,
      "outputs": []
    },
    {
      "cell_type": "code",
      "source": [
        "x_mean=np.mean(x)\n",
        "y_mean=np.mean(y)"
      ],
      "metadata": {
        "id": "dUuMZ7_wrjeA"
      },
      "execution_count": null,
      "outputs": []
    },
    {
      "cell_type": "code",
      "source": [
        "covariance = np.sum((x - x_mean) * (y - y_mean)) / (len(x) - 1)\n"
      ],
      "metadata": {
        "id": "UdvDUFAQrphX"
      },
      "execution_count": null,
      "outputs": []
    },
    {
      "cell_type": "code",
      "source": [
        "var_x=np.var(x)\n",
        "var_y=np.var(y)\n"
      ],
      "metadata": {
        "id": "tgP0itDJr4Gj"
      },
      "execution_count": null,
      "outputs": []
    },
    {
      "cell_type": "code",
      "source": [
        "corelation=covariance/np.sqrt(var_x*var_y)"
      ],
      "metadata": {
        "id": "WEY1TowBsQZI"
      },
      "execution_count": null,
      "outputs": []
    },
    {
      "cell_type": "markdown",
      "source": [
        "### **the Correlation between  above 2 vectors is**"
      ],
      "metadata": {
        "id": "HxEJAwARs7xI"
      }
    },
    {
      "cell_type": "code",
      "source": [
        "corelation"
      ],
      "metadata": {
        "colab": {
          "base_uri": "https://localhost:8080/"
        },
        "id": "3uwFq34NsZVS",
        "outputId": "ae2e63e2-a905-4b8e-a784-bd455a2e4c9d"
      },
      "execution_count": null,
      "outputs": [
        {
          "output_type": "execute_result",
          "data": {
            "text/plain": [
              "1.25"
            ]
          },
          "metadata": {},
          "execution_count": 7
        }
      ]
    },
    {
      "cell_type": "code",
      "source": [
        "\n"
      ],
      "metadata": {
        "id": "BXKZgtBqsawp"
      },
      "execution_count": null,
      "outputs": []
    }
  ]
}